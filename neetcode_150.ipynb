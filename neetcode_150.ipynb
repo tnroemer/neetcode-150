{
 "cells": [
  {
   "cell_type": "code",
   "execution_count": null,
   "id": "3e6d4ad2",
   "metadata": {},
   "outputs": [],
   "source": [
    "## Neetcode 150: Number of 1 Bits\n",
    "\n",
    "class Solution:\n",
    "    def hammingWeight(self, n: int) -> int:\n",
    "        one_counter = 0\n",
    "        for i in range(32, -1, -1):\n",
    "            if n==0:\n",
    "                return one_counter\n",
    "            elif n%(2**i) != n:\n",
    "                one_counter += 1\n",
    "                n = n%(2**i)\n",
    "        return one_counter"
   ]
  },
  {
   "cell_type": "code",
   "execution_count": null,
   "id": "559522c9",
   "metadata": {},
   "outputs": [],
   "source": []
  },
  {
   "cell_type": "code",
   "execution_count": null,
   "id": "dff68cbd",
   "metadata": {},
   "outputs": [],
   "source": []
  },
  {
   "cell_type": "code",
   "execution_count": null,
   "id": "3f76ec89",
   "metadata": {},
   "outputs": [],
   "source": []
  },
  {
   "cell_type": "code",
   "execution_count": null,
   "id": "c5a9714d",
   "metadata": {},
   "outputs": [],
   "source": []
  }
 ],
 "metadata": {
  "kernelspec": {
   "display_name": "3.11.4",
   "language": "python",
   "name": "python3"
  },
  "language_info": {
   "name": "python",
   "version": "3.11.4"
  }
 },
 "nbformat": 4,
 "nbformat_minor": 5
}
