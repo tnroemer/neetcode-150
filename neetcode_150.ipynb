{
 "cells": [
  {
   "cell_type": "code",
   "execution_count": null,
   "id": "3e6d4ad2",
   "metadata": {},
   "outputs": [],
   "source": [
    "## Neetcode 150: Number of 1 Bits\n",
    "\n",
    "class Solution:\n",
    "    def hammingWeight(self, n: int) -> int:\n",
    "        one_counter = 0\n",
    "        for i in range(32, -1, -1):\n",
    "            if n==0:\n",
    "                return one_counter\n",
    "            elif n%(2**i) != n:\n",
    "                one_counter += 1\n",
    "                n = n%(2**i)\n",
    "        return one_counter"
   ]
  },
  {
   "cell_type": "code",
   "execution_count": null,
   "id": "559522c9",
   "metadata": {},
   "outputs": [],
   "source": [
    "## Neetcode 150: Kth Largest Element in a Stream\n",
    "\n",
    "import heapq\n",
    "\n",
    "class KthLargest:\n",
    "    def __init__(self, k: int, nums: list[int]):\n",
    "        self.minHeap, self.k = nums, k\n",
    "        heapq.heapify(self.minHeap)\n",
    "        while len(self.minHeap) > self.k:\n",
    "            heapq.heappop(self.minHeap)\n",
    "\n",
    "    def add(self, val: int) -> int:\n",
    "        heapq.heappush(self.minHeap, val)\n",
    "        if len(self.minHeap) > self.k:\n",
    "            heapq.heappop(self.minHeap)\n",
    "        return self.minHeap[0]\n"
   ]
  },
  {
   "cell_type": "code",
   "execution_count": null,
   "id": "c76f0fb3",
   "metadata": {},
   "outputs": [],
   "source": [
    "## Neetcode 150: Counting Bits 1/2\n",
    "\n",
    "class Solution:\n",
    "    def countBits(self, n: int) -> list[int]:\n",
    "        bitList = []\n",
    "        for k in range(n+1):\n",
    "            bitList.append(self.getBits(k))\n",
    "        return bitList\n",
    "\n",
    "    def getBits(self, k):\n",
    "        bits = 0\n",
    "        for i in range(10, -1, -1):\n",
    "            if k % (2**i) != k:\n",
    "                bits += 1\n",
    "                k = k % (2**i)\n",
    "        return bits"
   ]
  },
  {
   "cell_type": "code",
   "execution_count": null,
   "id": "c5a9714d",
   "metadata": {},
   "outputs": [],
   "source": [
    "## Neetcode 150: Counting Bits 2/2\n",
    "\n",
    "class Solution:\n",
    "    def countBits(self, n: int) -> list[int]:\n",
    "        ans = [0] * (n+1)\n",
    "        offset = 1\n",
    "\n",
    "        for i in range(1, n+1):\n",
    "            if offset * 2 == i:\n",
    "                offset = i\n",
    "            ans[i] = 1 + ans[i-offset]\n",
    "\n",
    "        return ans\n"
   ]
  },
  {
   "cell_type": "code",
   "execution_count": null,
   "id": "07468c95",
   "metadata": {},
   "outputs": [],
   "source": [
    "## Neetcode 150: Reverse Bits 1/2\n",
    "\n",
    "class Solution:\n",
    "    def reverseBits(self, n: int) -> int:\n",
    "        ans = 0\n",
    "        for i in range(31,-1,-1):\n",
    "            if n % (2**i) != n:\n",
    "                ans += 2**(31-i)\n",
    "                n = n % (2**i)\n",
    "        return ans"
   ]
  },
  {
   "cell_type": "code",
   "execution_count": null,
   "id": "ef22a1b6",
   "metadata": {},
   "outputs": [],
   "source": [
    "## Neetcode 150: Reverse Bits 2/2\n",
    "\n",
    "class Solution:\n",
    "    def reverseBits(self, n: int) -> int:\n",
    "        ans = 0\n",
    "        for i in range(32):\n",
    "            bit = (n >> i) & 1\n",
    "            ans += bit << (31-i)\n",
    "        return ans"
   ]
  }
 ],
 "metadata": {
  "kernelspec": {
   "display_name": "3.11.4",
   "language": "python",
   "name": "python3"
  },
  "language_info": {
   "codemirror_mode": {
    "name": "ipython",
    "version": 3
   },
   "file_extension": ".py",
   "mimetype": "text/x-python",
   "name": "python",
   "nbconvert_exporter": "python",
   "pygments_lexer": "ipython3",
   "version": "3.11.4"
  }
 },
 "nbformat": 4,
 "nbformat_minor": 5
}
